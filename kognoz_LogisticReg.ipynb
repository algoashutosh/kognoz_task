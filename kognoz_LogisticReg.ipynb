{
 "cells": [
  {
   "cell_type": "code",
   "execution_count": 31,
   "metadata": {},
   "outputs": [],
   "source": [
    "%matplotlib inline\n",
    "import warnings\n",
    "warnings.filterwarnings(\"ignore\")\n",
    "\n",
    "\n",
    "import sqlite3\n",
    "import pandas as pd\n",
    "import numpy as np\n",
    "import nltk\n",
    "import string\n",
    "import matplotlib.pyplot as plt\n",
    "import seaborn as sns\n",
    "from sklearn.feature_extraction.text import TfidfTransformer\n",
    "from sklearn.feature_extraction.text import TfidfVectorizer\n",
    "\n",
    "from sklearn.feature_extraction.text import CountVectorizer\n",
    "from sklearn.metrics import confusion_matrix\n",
    "from sklearn import metrics\n",
    "from sklearn.metrics import roc_curve, auc\n",
    "from nltk.stem.porter import PorterStemmer\n",
    "\n",
    "import re\n",
    "# Tutorial about Python regular expressions: https://pymotw.com/2/re/\n",
    "import string\n",
    "from nltk.corpus import stopwords\n",
    "from nltk.stem import PorterStemmer\n",
    "from nltk.stem.wordnet import WordNetLemmatizer\n",
    "\n",
    "import pickle\n",
    "\n",
    "from tqdm import tqdm\n",
    "import os"
   ]
  },
  {
   "cell_type": "markdown",
   "metadata": {},
   "source": [
    "# Preprocceing"
   ]
  },
  {
   "cell_type": "code",
   "execution_count": 32,
   "metadata": {},
   "outputs": [
    {
     "data": {
      "text/html": [
       "<div>\n",
       "<style scoped>\n",
       "    .dataframe tbody tr th:only-of-type {\n",
       "        vertical-align: middle;\n",
       "    }\n",
       "\n",
       "    .dataframe tbody tr th {\n",
       "        vertical-align: top;\n",
       "    }\n",
       "\n",
       "    .dataframe thead th {\n",
       "        text-align: right;\n",
       "    }\n",
       "</style>\n",
       "<table border=\"1\" class=\"dataframe\">\n",
       "  <thead>\n",
       "    <tr style=\"text-align: right;\">\n",
       "      <th></th>\n",
       "      <th>Unnamed: 0</th>\n",
       "      <th>Unnamed: 0.1</th>\n",
       "      <th>title</th>\n",
       "      <th>link</th>\n",
       "      <th>description</th>\n",
       "      <th>pubDate</th>\n",
       "      <th>articleid</th>\n",
       "      <th>website</th>\n",
       "      <th>issue</th>\n",
       "      <th>type</th>\n",
       "      <th>showcase</th>\n",
       "    </tr>\n",
       "  </thead>\n",
       "  <tbody>\n",
       "    <tr>\n",
       "      <th>0</th>\n",
       "      <td>0</td>\n",
       "      <td>0</td>\n",
       "      <td>No Duty on Chinese Imports for Public Solar Po...</td>\n",
       "      <td>http://myimpact.in/index.php?page=Clipj&amp;id=00e...</td>\n",
       "      <td>New Delhi Chinese imports for public solar po...</td>\n",
       "      <td>2020-07-01</td>\n",
       "      <td>003bd7b1-bb3f-11ea-87c0-70f3955ff93a</td>\n",
       "      <td>The Economic Times - Delhi</td>\n",
       "      <td>Power Industry News</td>\n",
       "      <td>print</td>\n",
       "      <td>NO</td>\n",
       "    </tr>\n",
       "    <tr>\n",
       "      <th>1</th>\n",
       "      <td>1</td>\n",
       "      <td>1</td>\n",
       "      <td>Solar Tariffs Fall to Record Low of Rs 2.36/Unit</td>\n",
       "      <td>http://myimpact.in/index.php?page=Clipj&amp;id=fe5...</td>\n",
       "      <td>Bengaluru: Solar tariffs fell to a record low...</td>\n",
       "      <td>2020-07-01</td>\n",
       "      <td>0486da8f-bb41-11ea-b40c-0068ebdc2fd0</td>\n",
       "      <td>The Economic Times - Mumbai</td>\n",
       "      <td>General Industry news</td>\n",
       "      <td>print</td>\n",
       "      <td>NO</td>\n",
       "    </tr>\n",
       "    <tr>\n",
       "      <th>2</th>\n",
       "      <td>2</td>\n",
       "      <td>2</td>\n",
       "      <td>Corning appoints new MD for India</td>\n",
       "      <td>http://myimpact.in/index.php?page=Clipj&amp;id=234...</td>\n",
       "      <td>Corning Incorporated has announced that Sudhi...</td>\n",
       "      <td>2020-07-01</td>\n",
       "      <td>3497c933-bb95-11ea-9c46-</td>\n",
       "      <td>BioSpectrum - National</td>\n",
       "      <td>General Industry news</td>\n",
       "      <td>print</td>\n",
       "      <td>NO</td>\n",
       "    </tr>\n",
       "    <tr>\n",
       "      <th>3</th>\n",
       "      <td>3</td>\n",
       "      <td>3</td>\n",
       "      <td>L&amp;T Makes Key Component for Advanced Nuclear R...</td>\n",
       "      <td>http://myimpact.in/index.php?page=Clipj&amp;id=490...</td>\n",
       "      <td>MUMBAI Larsen &amp; Toubro has completed the manu...</td>\n",
       "      <td>2020-07-01</td>\n",
       "      <td>3aa7ae60-bb3f-11ea-87c0-70f3955ff93a</td>\n",
       "      <td>The Economic Times - Delhi</td>\n",
       "      <td>General Industry news</td>\n",
       "      <td>print</td>\n",
       "      <td>NO</td>\n",
       "    </tr>\n",
       "    <tr>\n",
       "      <th>4</th>\n",
       "      <td>4</td>\n",
       "      <td>4</td>\n",
       "      <td>Two percent discount on lump sum payment of el...</td>\n",
       "      <td>http://myimpact.in/index.php?page=Clipj&amp;id=566...</td>\n",
       "      <td>NaN</td>\n",
       "      <td>2020-07-01</td>\n",
       "      <td>41b5248a-bb4f-11ea-a37a-0068ebdd9697</td>\n",
       "      <td>Saamna - Mumbai</td>\n",
       "      <td>Power Industry News</td>\n",
       "      <td>print</td>\n",
       "      <td>NO</td>\n",
       "    </tr>\n",
       "  </tbody>\n",
       "</table>\n",
       "</div>"
      ],
      "text/plain": [
       "   Unnamed: 0  Unnamed: 0.1  \\\n",
       "0           0             0   \n",
       "1           1             1   \n",
       "2           2             2   \n",
       "3           3             3   \n",
       "4           4             4   \n",
       "\n",
       "                                               title  \\\n",
       "0  No Duty on Chinese Imports for Public Solar Po...   \n",
       "1   Solar Tariffs Fall to Record Low of Rs 2.36/Unit   \n",
       "2                  Corning appoints new MD for India   \n",
       "3  L&T Makes Key Component for Advanced Nuclear R...   \n",
       "4  Two percent discount on lump sum payment of el...   \n",
       "\n",
       "                                                link  \\\n",
       "0  http://myimpact.in/index.php?page=Clipj&id=00e...   \n",
       "1  http://myimpact.in/index.php?page=Clipj&id=fe5...   \n",
       "2  http://myimpact.in/index.php?page=Clipj&id=234...   \n",
       "3  http://myimpact.in/index.php?page=Clipj&id=490...   \n",
       "4  http://myimpact.in/index.php?page=Clipj&id=566...   \n",
       "\n",
       "                                         description     pubDate  \\\n",
       "0   New Delhi Chinese imports for public solar po...  2020-07-01   \n",
       "1   Bengaluru: Solar tariffs fell to a record low...  2020-07-01   \n",
       "2   Corning Incorporated has announced that Sudhi...  2020-07-01   \n",
       "3   MUMBAI Larsen & Toubro has completed the manu...  2020-07-01   \n",
       "4                                                NaN  2020-07-01   \n",
       "\n",
       "                              articleid                      website  \\\n",
       "0  003bd7b1-bb3f-11ea-87c0-70f3955ff93a   The Economic Times - Delhi   \n",
       "1  0486da8f-bb41-11ea-b40c-0068ebdc2fd0  The Economic Times - Mumbai   \n",
       "2              3497c933-bb95-11ea-9c46-       BioSpectrum - National   \n",
       "3  3aa7ae60-bb3f-11ea-87c0-70f3955ff93a   The Economic Times - Delhi   \n",
       "4  41b5248a-bb4f-11ea-a37a-0068ebdd9697              Saamna - Mumbai   \n",
       "\n",
       "                   issue   type showcase  \n",
       "0    Power Industry News  print       NO  \n",
       "1  General Industry news  print       NO  \n",
       "2  General Industry news  print       NO  \n",
       "3  General Industry news  print       NO  \n",
       "4    Power Industry News  print       NO  "
      ]
     },
     "execution_count": 32,
     "metadata": {},
     "output_type": "execute_result"
    }
   ],
   "source": [
    "df = pd.read_csv('kognoz2.csv')\n",
    "df.head(5)"
   ]
  },
  {
   "cell_type": "code",
   "execution_count": 33,
   "metadata": {},
   "outputs": [
    {
     "data": {
      "text/plain": [
       "0                        149\n",
       "Power Industry News      121\n",
       "General Industry news    115\n",
       "Electric Vehicles         70\n",
       "Niti Aayog                45\n",
       "Name: issue, dtype: int64"
      ]
     },
     "execution_count": 33,
     "metadata": {},
     "output_type": "execute_result"
    }
   ],
   "source": [
    "df['issue'].value_counts()"
   ]
  },
  {
   "cell_type": "code",
   "execution_count": 34,
   "metadata": {},
   "outputs": [],
   "source": [
    "df['issue'] = df['issue'].replace([\"Customers News\"],\"0\")\n",
    "df['issue'] = df['issue'].replace([\"Power Industry News\"],\"1\")\n",
    "df['issue'] = df['issue'].replace([\"General Industry news\"],\"2\")\n",
    "df['issue'] = df['issue'].replace([\"Electric Vehicles\"],\"3\")\n",
    "df['issue'] = df['issue'].replace([\"Niti Aayog  \"],\"4\")"
   ]
  },
  {
   "cell_type": "code",
   "execution_count": 35,
   "metadata": {},
   "outputs": [],
   "source": [
    "final = df"
   ]
  },
  {
   "cell_type": "code",
   "execution_count": 36,
   "metadata": {},
   "outputs": [
    {
     "name": "stdout",
     "output_type": "stream",
     "text": [
      " Yost cited a 2019 study that GM's Lordstown closure resulted in the loss of nearly 8,000 jobs and more than $8 billion in local economic activity, while the local school district had relied on the plant for 10% of its budget.<p> GM said Tuesday it \"has demonstrated its commitment to Ohio through our investments of more than $3.3 billion in Ohio since 2009 ... We look forward to continuing our dialogue with the state.\"</p><p> As recently as 2016, GM employed 4,500 people at Lordstown and cut the final 1,500 jobs when production of the slow-selling Chevrolet Cruze ended.</p><p> GM sold the plant to an electric vehicle startup Lordstown Motors that hopes to begin production next year with a few hundred workers.</p><p> GM and LG Chem are investing $2.2 billion to build a battery cell manufacturing plant in Lordstown that will create 1,100 jobs.</p><p> Ohio Governor Mike DeWine told reporters last week the state does not \"necessarily have to get that cash back but what we do want to see is things that promote jobs in Ohio ... We're not actively pursuing a clawback.\"</p><p> Also Read:</p><p> U.S. appeals court stays order requiring GM, FCA meet to resolve GM lawsuit</p><p></p>\n"
     ]
    }
   ],
   "source": [
    "sent_0 = final['description'].values[245]\n",
    "print(sent_0)"
   ]
  },
  {
   "cell_type": "code",
   "execution_count": 37,
   "metadata": {},
   "outputs": [],
   "source": [
    "final['description']=final['description'].apply(str)"
   ]
  },
  {
   "cell_type": "code",
   "execution_count": 38,
   "metadata": {},
   "outputs": [],
   "source": [
    "import re\n",
    "\n",
    "def decontracted(phrase):\n",
    "    # specific\n",
    "    phrase = re.sub(r\"won't\", \"will not\", phrase)\n",
    "    phrase = re.sub(r\"can\\'t\", \"can not\", phrase)\n",
    "\n",
    "    # general\n",
    "    phrase = re.sub(r\"n\\'t\", \" not\", phrase)\n",
    "    phrase = re.sub(r\"\\'re\", \" are\", phrase)\n",
    "    phrase = re.sub(r\"\\'s\", \" is\", phrase)\n",
    "    phrase = re.sub(r\"\\'d\", \" would\", phrase)\n",
    "    phrase = re.sub(r\"\\'ll\", \" will\", phrase)\n",
    "    phrase = re.sub(r\"\\'t\", \" not\", phrase)\n",
    "    phrase = re.sub(r\"\\'ve\", \" have\", phrase)\n",
    "    phrase = re.sub(r\"\\'m\", \" am\", phrase)\n",
    "    return phrase"
   ]
  },
  {
   "cell_type": "code",
   "execution_count": 39,
   "metadata": {},
   "outputs": [],
   "source": [
    "stopwords= set(['br', 'the', 'i', 'me', 'my', 'myself', 'we', 'our', 'ours', 'ourselves', 'you', \"you're\", \"you've\",\\\n",
    "            \"you'll\", \"you'd\", 'your', 'yours', 'yourself', 'yourselves', 'he', 'him', 'his', 'himself', \\\n",
    "            'she', \"she's\", 'her', 'hers', 'herself', 'it', \"it's\", 'its', 'itself', 'they', 'them', 'their',\\\n",
    "            'theirs', 'themselves', 'what', 'which', 'who', 'whom', 'this', 'that', \"that'll\", 'these', 'those', \\\n",
    "            'am', 'is', 'are', 'was', 'were', 'be', 'been', 'being', 'have', 'has', 'had', 'having', 'do', 'does', \\\n",
    "            'did', 'doing', 'a', 'an', 'the', 'and', 'but', 'if', 'or', 'because', 'as', 'until', 'while', 'of', \\\n",
    "            'at', 'by', 'for', 'with', 'about', 'against', 'between', 'into', 'through', 'during', 'before', 'after',\\\n",
    "            'above', 'below', 'to', 'from', 'up', 'down', 'in', 'out', 'on', 'off', 'over', 'under', 'again', 'further',\\\n",
    "            'then', 'once', 'here', 'there', 'when', 'where', 'why', 'how', 'all', 'any', 'both', 'each', 'few', 'more',\\\n",
    "            'most', 'other', 'some', 'such', 'only', 'own', 'same', 'so', 'than', 'too', 'very', \\\n",
    "            's', 't', 'can', 'will', 'just', 'don', \"don't\", 'should', \"should've\", 'now', 'd', 'll', 'm', 'o', 're', \\\n",
    "            've', 'y', 'ain', 'aren', \"aren't\", 'couldn', \"couldn't\", 'didn', \"didn't\", 'doesn', \"doesn't\", 'hadn',\\\n",
    "            \"hadn't\", 'hasn', \"hasn't\", 'haven', \"haven't\", 'isn', \"isn't\", 'ma', 'mightn', \"mightn't\", 'mustn',\\\n",
    "            \"mustn't\", 'needn', \"needn't\", 'shan', \"shan't\", 'shouldn', \"shouldn't\", 'wasn', \"wasn't\", 'weren', \"weren't\", \\\n",
    "            'won', \"won't\", 'wouldn', \"wouldn't\"])\n"
   ]
  },
  {
   "cell_type": "code",
   "execution_count": 40,
   "metadata": {},
   "outputs": [
    {
     "name": "stderr",
     "output_type": "stream",
     "text": [
      "100%|███████████████████████████████████████████████████████████████████████████████| 500/500 [00:02<00:00, 170.87it/s]\n"
     ]
    }
   ],
   "source": [
    "from bs4 import BeautifulSoup\n",
    "from tqdm import tqdm\n",
    "preprocessed_reviews = []\n",
    "# tqdm is for printing the status bar\n",
    "for sentance in tqdm(final['description'].values):\n",
    "    sentance = re.sub(r\"http\\S+\", \"\", sentance)\n",
    "    sentance = BeautifulSoup(sentance, 'lxml').get_text()\n",
    "    sentance = decontracted(sentance)\n",
    "    sentance = re.sub(\"\\S*\\d\\S*\", \"\", sentance).strip()\n",
    "    sentance = re.sub('[^A-Za-z]+', ' ', sentance)\n",
    "    # https://gist.github.com/sebleier/554280\n",
    "    sentance = ' '.join(e.lower() for e in sentance.split() if e.lower() not in stopwords)\n",
    "    preprocessed_reviews.append(sentance.strip())"
   ]
  },
  {
   "cell_type": "code",
   "execution_count": 41,
   "metadata": {},
   "outputs": [
    {
     "data": {
      "text/plain": [
       "'yost cited study gm lordstown closure resulted loss nearly jobs billion local economic activity local school district relied plant budget gm said tuesday demonstrated commitment ohio investments billion ohio since look forward continuing dialogue state recently gm employed people lordstown cut final jobs production slow selling chevrolet cruze ended gm sold plant electric vehicle startup lordstown motors hopes begin production next year hundred workers gm lg chem investing billion build battery cell manufacturing plant lordstown create jobs ohio governor mike dewine told reporters last week state not necessarily get cash back want see things promote jobs ohio not actively pursuing clawback also read u appeals court stays order requiring gm fca meet resolve gm lawsuit'"
      ]
     },
     "execution_count": 41,
     "metadata": {},
     "output_type": "execute_result"
    }
   ],
   "source": [
    "preprocessed_reviews[245]"
   ]
  },
  {
   "cell_type": "code",
   "execution_count": 42,
   "metadata": {},
   "outputs": [],
   "source": [
    "final['Cleaned_Text'] = preprocessed_reviews"
   ]
  },
  {
   "cell_type": "code",
   "execution_count": 43,
   "metadata": {},
   "outputs": [
    {
     "data": {
      "text/plain": [
       "500"
      ]
     },
     "execution_count": 43,
     "metadata": {},
     "output_type": "execute_result"
    }
   ],
   "source": [
    "x = final['Cleaned_Text']\n",
    "x.size"
   ]
  },
  {
   "cell_type": "code",
   "execution_count": 44,
   "metadata": {},
   "outputs": [
    {
     "data": {
      "text/plain": [
       "500"
      ]
     },
     "execution_count": 44,
     "metadata": {},
     "output_type": "execute_result"
    }
   ],
   "source": [
    "y = final['issue']\n",
    "y.size"
   ]
  },
  {
   "cell_type": "code",
   "execution_count": 45,
   "metadata": {},
   "outputs": [],
   "source": [
    "from sklearn.model_selection import train_test_split\n",
    "x_train,x_test,y_train,y_test = train_test_split(x,y,test_size=0.3,random_state=42)"
   ]
  },
  {
   "cell_type": "markdown",
   "metadata": {},
   "source": [
    "# LR using BOW"
   ]
  },
  {
   "cell_type": "code",
   "execution_count": 46,
   "metadata": {},
   "outputs": [],
   "source": [
    "count_vect = CountVectorizer()\n",
    "bow_X_train = count_vect.fit_transform(x_train)\n",
    "bow_X_test = count_vect.transform(x_test)"
   ]
  },
  {
   "cell_type": "code",
   "execution_count": 47,
   "metadata": {},
   "outputs": [],
   "source": [
    "#Grid search & L2"
   ]
  },
  {
   "cell_type": "code",
   "execution_count": 48,
   "metadata": {},
   "outputs": [
    {
     "name": "stdout",
     "output_type": "stream",
     "text": [
      "best C =  {'C': 0.01}\n",
      "Accuracy on train data =  78.57142857142857\n"
     ]
    }
   ],
   "source": [
    "from sklearn.linear_model import LogisticRegression\n",
    "from sklearn.model_selection import GridSearchCV, RandomizedSearchCV\n",
    "\n",
    "lam = [0.001,0.01,0.1,1,10]\n",
    "clf = LogisticRegression()\n",
    "param_grid = {'C':lam}\n",
    "grid = GridSearchCV(estimator = clf,param_grid=param_grid ,cv = 5,n_jobs = 3)\n",
    "grid.fit(bow_X_train, y_train)\n",
    "print(\"best C = \", grid.best_params_)\n",
    "print(\"Accuracy on train data = \", grid.best_score_*100)\n",
    "a = grid.best_params_\n",
    "optimal_a1 = a.get('C')"
   ]
  },
  {
   "cell_type": "code",
   "execution_count": 49,
   "metadata": {},
   "outputs": [
    {
     "data": {
      "image/png": "[encoded data removed]",
      "text/plain": [
       "<Figure size 432x288 with 1 Axes>"
      ]
     },
     "metadata": {
      "needs_background": "light"
     },
     "output_type": "display_data"
    }
   ],
   "source": [
    "import matplotlib.pyplot as plt \n",
    "\n",
    "error = [(1-i)*100 for i in grid.cv_results_['mean_test_score']]\n",
    "plt.plot(lam, error)\n",
    "plt.title('Error plot')\n",
    "plt.xlabel('lambda value')\n",
    "plt.ylabel('Test_Error')\n",
    "plt.show()"
   ]
  },
  {
   "cell_type": "code",
   "execution_count": 50,
   "metadata": {},
   "outputs": [
    {
     "name": "stdout",
     "output_type": "stream",
     "text": [
      "accuracy =  80.0\n",
      "precision = [80.76923077 92.30769231 63.63636364 94.44444444 90.        ]\n",
      "recall =  [89.36170213 63.15789474 75.67567568 94.44444444 90.        ]\n",
      "F1-Score =  [84.84848485 75.         69.13580247 94.44444444 90.        ]\n"
     ]
    }
   ],
   "source": [
    "from sklearn.metrics import accuracy_score\n",
    "from sklearn.metrics import precision_score\n",
    "from sklearn.metrics import f1_score\n",
    "from sklearn.metrics import recall_score\n",
    "from sklearn.metrics import confusion_matrix\n",
    "\n",
    "\n",
    "clf = LogisticRegression(C = optimal_a1)\n",
    "\n",
    "clf.fit(bow_X_train,y_train)\n",
    "\n",
    "pred = clf.predict(bow_X_test)\n",
    "\n",
    "acc1 = accuracy_score(y_test, pred) * 100\n",
    "pre1 = precision_score(y_test, pred, average = None) * 100\n",
    "rec1 = recall_score(y_test, pred, average = None) * 100\n",
    "f11 = f1_score(y_test, pred, average = None) * 100\n",
    "\n",
    "print(\"accuracy = \",acc1)\n",
    "print(\"precision =\",pre1)\n",
    "print(\"recall = \", rec1)\n",
    "print(\"F1-Score = \",f11)"
   ]
  },
  {
   "cell_type": "code",
   "execution_count": 51,
   "metadata": {},
   "outputs": [
    {
     "data": {
      "image/png": "[encoded data removed]",
      "text/plain": [
       "<Figure size 432x288 with 2 Axes>"
      ]
     },
     "metadata": {
      "needs_background": "light"
     },
     "output_type": "display_data"
    }
   ],
   "source": [
    "\n",
    "import seaborn as sns\n",
    "cm = confusion_matrix(y_test,pred)\n",
    "sns.heatmap(cm, annot=True,fmt='d')\n",
    "plt.title('Confusion Matrix')\n",
    "plt.show()"
   ]
  },
  {
   "cell_type": "code",
   "execution_count": 52,
   "metadata": {},
   "outputs": [],
   "source": [
    "#Grid and L1"
   ]
  },
  {
   "cell_type": "code",
   "execution_count": 53,
   "metadata": {},
   "outputs": [
    {
     "name": "stdout",
     "output_type": "stream",
     "text": [
      "accuracy =  39.33333333333333\n",
      "precision = [41.33333333 46.15384615 30.95238095 75.         37.5       ]\n",
      "recall =  [65.95744681 15.78947368 35.13513514 16.66666667 60.        ]\n",
      "F1-Score =  [50.81967213 23.52941176 32.91139241 27.27272727 46.15384615]\n"
     ]
    }
   ],
   "source": [
    "clf = LogisticRegression(C = optimal_a1, penalty='l1')\n",
    "\n",
    "clf.fit(bow_X_train,y_train)\n",
    "\n",
    "pred = clf.predict(bow_X_test)\n",
    "\n",
    "acc2 = accuracy_score(y_test, pred) * 100\n",
    "pre2 = precision_score(y_test, pred, average = None) * 100\n",
    "rec2 = recall_score(y_test, pred, average = None) * 100\n",
    "f12 = f1_score(y_test, pred, average = None) * 100\n",
    "\n",
    "print(\"accuracy = \",acc2)\n",
    "print(\"precision =\",pre2)\n",
    "print(\"recall = \", rec2)\n",
    "print(\"F1-Score = \",f12)"
   ]
  },
  {
   "cell_type": "code",
   "execution_count": 54,
   "metadata": {},
   "outputs": [
    {
     "data": {
      "image/png": "[encoded data removed]",
      "text/plain": [
       "<Figure size 432x288 with 2 Axes>"
      ]
     },
     "metadata": {
      "needs_background": "light"
     },
     "output_type": "display_data"
    }
   ],
   "source": [
    "import seaborn as sns\n",
    "cm = confusion_matrix(y_test,pred)\n",
    "sns.heatmap(cm, annot=True,fmt='d')\n",
    "plt.title('Confusion Matrix')\n",
    "plt.show()"
   ]
  },
  {
   "cell_type": "code",
   "execution_count": 55,
   "metadata": {},
   "outputs": [
    {
     "name": "stdout",
     "output_type": "stream",
     "text": [
      "+------+-------------+------+-------------+---------------+\n",
      "|  CV  | Regularizer |  C   | Test_Acc(%) | Test_Error(%) |\n",
      "+------+-------------+------+-------------+---------------+\n",
      "| Grid |      L2     | 0.01 |     80.0    |      20.0     |\n",
      "| Grid |      L1     | 0.01 |    39.33    |     60.67     |\n",
      "+------+-------------+------+-------------+---------------+\n"
     ]
    }
   ],
   "source": [
    "from prettytable import PrettyTable\n",
    "\n",
    "x = PrettyTable()\n",
    "\n",
    "reg1 = 'L2'\n",
    "reg2 = 'L1'\n",
    "cv = 'Grid'\n",
    "x.field_names = [\"CV\",\"Regularizer\",\"C\",\"Test_Acc(%)\",\"Test_Error(%)\"]\n",
    "\n",
    "acc1 = np.around(acc1, decimals = 2)\n",
    "err1 = np.around(100-acc1, decimals = 2) \n",
    "\n",
    "acc2 = np.around(acc2, decimals = 2)\n",
    "err2 = np.around(100-acc2, decimals = 2) \n",
    "\n",
    "x.add_row([cv,reg1,optimal_a1,acc1,err1])\n",
    "x.add_row([cv,reg2,optimal_a1,acc2,err2])\n",
    "\n",
    "print(x)"
   ]
  },
  {
   "cell_type": "markdown",
   "metadata": {},
   "source": [
    "# Randome search L2"
   ]
  },
  {
   "cell_type": "code",
   "execution_count": 57,
   "metadata": {},
   "outputs": [
    {
     "name": "stdout",
     "output_type": "stream",
     "text": [
      "best C =  {'C': 0.03572593120871259}\n",
      "Accuracy on train data =  79.42857142857143\n"
     ]
    }
   ],
   "source": [
    "from scipy.stats import uniform\n",
    "clf = LogisticRegression()\n",
    "param_grid = { 'C':uniform()}\n",
    "grid = RandomizedSearchCV(estimator = clf,param_distributions=param_grid ,cv = 5,n_jobs = 3)\n",
    "grid.fit(bow_X_train, y_train)\n",
    "print(\"best C = \", grid.best_params_)\n",
    "print(\"Accuracy on train data = \", grid.best_score_*100)\n",
    "a = grid.best_params_\n",
    "optimal_a1 = a.get('C')"
   ]
  },
  {
   "cell_type": "code",
   "execution_count": 58,
   "metadata": {},
   "outputs": [
    {
     "data": {
      "image/png": "[encoded data removed]",
      "text/plain": [
       "<Figure size 432x288 with 1 Axes>"
      ]
     },
     "metadata": {
      "needs_background": "light"
     },
     "output_type": "display_data"
    }
   ],
   "source": [
    "lam =[]\n",
    "for i in range(10):\n",
    "    lam.append(grid.cv_results_['params'][i]['C'])\n",
    "ind = np.argsort(lam)\n",
    "error = [(1-i)*100 for i in grid.cv_results_['mean_test_score']]\n",
    "l_values=[]\n",
    "err=[]\n",
    "for i in ind:\n",
    "    l_values.append(lam[i])\n",
    "    err.append(error[i])\n",
    "plt.plot(l_values, err)\n",
    "plt.title('Error plot')\n",
    "plt.xlabel('lambda value')\n",
    "plt.ylabel('Test_Error')\n",
    "plt.show()"
   ]
  },
  {
   "cell_type": "code",
   "execution_count": 59,
   "metadata": {},
   "outputs": [
    {
     "name": "stdout",
     "output_type": "stream",
     "text": [
      "accuracy =  79.33333333333333\n",
      "precision = [76.92307692 96.15384615 62.79069767 94.44444444 90.90909091]\n",
      "recall =  [ 85.10638298  65.78947368  72.97297297  94.44444444 100.        ]\n",
      "F1-Score =  [80.80808081 78.125      67.5        94.44444444 95.23809524]\n"
     ]
    }
   ],
   "source": [
    "clf = LogisticRegression(C = optimal_a1)\n",
    "\n",
    "clf.fit(bow_X_train,y_train)\n",
    "\n",
    "pred = clf.predict(bow_X_test)\n",
    "\n",
    "acc1 = accuracy_score(y_test, pred) * 100\n",
    "pre1 = precision_score(y_test, pred, average = None) * 100\n",
    "rec1 = recall_score(y_test, pred, average = None) * 100\n",
    "f11 = f1_score(y_test, pred, average = None) * 100\n",
    "\n",
    "print(\"accuracy = \",acc1)\n",
    "print(\"precision =\",pre1)\n",
    "print(\"recall = \", rec1)\n",
    "print(\"F1-Score = \",f11)"
   ]
  },
  {
   "cell_type": "code",
   "execution_count": 60,
   "metadata": {},
   "outputs": [
    {
     "data": {
      "image/png": "[encoded data removed]",
      "text/plain": [
       "<Figure size 432x288 with 2 Axes>"
      ]
     },
     "metadata": {
      "needs_background": "light"
     },
     "output_type": "display_data"
    }
   ],
   "source": [
    "cm = confusion_matrix(y_test,pred)\n",
    "sns.heatmap(cm, annot=True,fmt='d')\n",
    "plt.title('Confusion Matrix')\n",
    "plt.show()"
   ]
  },
  {
   "cell_type": "code",
   "execution_count": 61,
   "metadata": {},
   "outputs": [],
   "source": [
    "#Randome search L1"
   ]
  },
  {
   "cell_type": "code",
   "execution_count": 62,
   "metadata": {},
   "outputs": [
    {
     "name": "stdout",
     "output_type": "stream",
     "text": [
      "accuracy =  70.0\n",
      "precision = [68.96551724 71.42857143 55.55555556 88.88888889 80.        ]\n",
      "recall =  [85.10638298 78.94736842 40.54054054 88.88888889 40.        ]\n",
      "F1-Score =  [76.19047619 75.         46.875      88.88888889 53.33333333]\n"
     ]
    }
   ],
   "source": [
    "clf = LogisticRegression(C = optimal_a1, penalty='l1')\n",
    "\n",
    "clf.fit(bow_X_train,y_train)\n",
    "\n",
    "pred = clf.predict(bow_X_test)\n",
    "\n",
    "acc2 = accuracy_score(y_test, pred) * 100\n",
    "pre2 = precision_score(y_test, pred, average = None) * 100\n",
    "rec2 = recall_score(y_test, pred, average = None) * 100\n",
    "f12 = f1_score(y_test, pred, average = None) * 100\n",
    "\n",
    "print(\"accuracy = \",acc2)\n",
    "print(\"precision =\",pre2)\n",
    "print(\"recall = \", rec2)\n",
    "print(\"F1-Score = \",f12)"
   ]
  },
  {
   "cell_type": "code",
   "execution_count": 63,
   "metadata": {},
   "outputs": [
    {
     "data": {
      "image/png": "[encoded data removed]",
      "text/plain": [
       "<Figure size 432x288 with 2 Axes>"
      ]
     },
     "metadata": {
      "needs_background": "light"
     },
     "output_type": "display_data"
    }
   ],
   "source": [
    "cm = confusion_matrix(y_test,pred)\n",
    "sns.heatmap(cm, annot=True,fmt='d')\n",
    "plt.title('Confusion Matrix')\n",
    "plt.show()"
   ]
  },
  {
   "cell_type": "code",
   "execution_count": 64,
   "metadata": {},
   "outputs": [
    {
     "name": "stdout",
     "output_type": "stream",
     "text": [
      "+---------+-------------+---------------------+-------------+---------------+\n",
      "|    CV   | Regularizer |          C          | Test_Acc(%) | Test_Error(%) |\n",
      "+---------+-------------+---------------------+-------------+---------------+\n",
      "| Randome |      L2     | 0.03572593120871259 |    79.33    |     20.67     |\n",
      "| Randome |      L1     | 0.03572593120871259 |     70.0    |      30.0     |\n",
      "+---------+-------------+---------------------+-------------+---------------+\n"
     ]
    }
   ],
   "source": [
    "x = PrettyTable()\n",
    "\n",
    "reg1 = 'L2'\n",
    "reg2 = 'L1'\n",
    "cv = 'Randome'\n",
    "x.field_names = [\"CV\",\"Regularizer\",\"C\",\"Test_Acc(%)\",\"Test_Error(%)\"]\n",
    "\n",
    "acc1 = np.around(acc1, decimals = 2)\n",
    "err1 = np.around(100-acc1, decimals = 2) \n",
    "\n",
    "acc2 = np.around(acc2, decimals = 2)\n",
    "err2 = np.around(100-acc2, decimals = 2) \n",
    "\n",
    "x.add_row([cv,reg1,optimal_a1,acc1,err1])\n",
    "x.add_row([cv,reg2,optimal_a1,acc2,err2])\n",
    "\n",
    "print(x)"
   ]
  },
  {
   "cell_type": "code",
   "execution_count": null,
   "metadata": {},
   "outputs": [],
   "source": []
  }
 ],
 "metadata": {
  "kernelspec": {
   "display_name": "Python 3",
   "language": "python",
   "name": "python3"
  },
  "language_info": {
   "codemirror_mode": {
    "name": "ipython",
    "version": 3
   },
   "file_extension": ".py",
   "mimetype": "text/x-python",
   "name": "python",
   "nbconvert_exporter": "python",
   "pygments_lexer": "ipython3",
   "version": "3.7.3"
  }
 },
 "nbformat": 4,
 "nbformat_minor": 4
}
